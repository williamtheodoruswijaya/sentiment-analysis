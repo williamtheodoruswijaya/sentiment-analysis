{
 "cells": [
  {
   "cell_type": "markdown",
   "metadata": {},
   "source": [
    "## 1. Data Reading using pandas"
   ]
  },
  {
   "cell_type": "markdown",
   "metadata": {},
   "source": [
    "- Raw Dataset Reading"
   ]
  },
  {
   "cell_type": "code",
   "execution_count": 1,
   "metadata": {},
   "outputs": [
    {
     "data": {
      "text/html": [
       "<div>\n",
       "<style scoped>\n",
       "    .dataframe tbody tr th:only-of-type {\n",
       "        vertical-align: middle;\n",
       "    }\n",
       "\n",
       "    .dataframe tbody tr th {\n",
       "        vertical-align: top;\n",
       "    }\n",
       "\n",
       "    .dataframe thead th {\n",
       "        text-align: right;\n",
       "    }\n",
       "</style>\n",
       "<table border=\"1\" class=\"dataframe\">\n",
       "  <thead>\n",
       "    <tr style=\"text-align: right;\">\n",
       "      <th></th>\n",
       "      <th>Unnamed: 0</th>\n",
       "      <th>statement</th>\n",
       "      <th>status</th>\n",
       "    </tr>\n",
       "  </thead>\n",
       "  <tbody>\n",
       "    <tr>\n",
       "      <th>0</th>\n",
       "      <td>0</td>\n",
       "      <td>oh my gosh</td>\n",
       "      <td>Anxiety</td>\n",
       "    </tr>\n",
       "    <tr>\n",
       "      <th>1</th>\n",
       "      <td>1</td>\n",
       "      <td>trouble sleeping, confused mind, restless hear...</td>\n",
       "      <td>Anxiety</td>\n",
       "    </tr>\n",
       "    <tr>\n",
       "      <th>2</th>\n",
       "      <td>2</td>\n",
       "      <td>All wrong, back off dear, forward doubt. Stay ...</td>\n",
       "      <td>Anxiety</td>\n",
       "    </tr>\n",
       "    <tr>\n",
       "      <th>3</th>\n",
       "      <td>3</td>\n",
       "      <td>I've shifted my focus to something else but I'...</td>\n",
       "      <td>Anxiety</td>\n",
       "    </tr>\n",
       "    <tr>\n",
       "      <th>4</th>\n",
       "      <td>4</td>\n",
       "      <td>I'm restless and restless, it's been a month n...</td>\n",
       "      <td>Anxiety</td>\n",
       "    </tr>\n",
       "  </tbody>\n",
       "</table>\n",
       "</div>"
      ],
      "text/plain": [
       "  Unnamed: 0                                          statement   status\n",
       "0          0                                         oh my gosh  Anxiety\n",
       "1          1  trouble sleeping, confused mind, restless hear...  Anxiety\n",
       "2          2  All wrong, back off dear, forward doubt. Stay ...  Anxiety\n",
       "3          3  I've shifted my focus to something else but I'...  Anxiety\n",
       "4          4  I'm restless and restless, it's been a month n...  Anxiety"
      ]
     },
     "execution_count": 1,
     "metadata": {},
     "output_type": "execute_result"
    }
   ],
   "source": [
    "import pandas as pd\n",
    "\n",
    "df = pd.read_csv('../data/raw.csv')\n",
    "\n",
    "df.head()"
   ]
  },
  {
   "cell_type": "markdown",
   "metadata": {},
   "source": [
    "- Anxiety Dataset Reading"
   ]
  },
  {
   "cell_type": "code",
   "execution_count": 2,
   "metadata": {},
   "outputs": [
    {
     "data": {
      "text/html": [
       "<div>\n",
       "<style scoped>\n",
       "    .dataframe tbody tr th:only-of-type {\n",
       "        vertical-align: middle;\n",
       "    }\n",
       "\n",
       "    .dataframe tbody tr th {\n",
       "        vertical-align: top;\n",
       "    }\n",
       "\n",
       "    .dataframe thead th {\n",
       "        text-align: right;\n",
       "    }\n",
       "</style>\n",
       "<table border=\"1\" class=\"dataframe\">\n",
       "  <thead>\n",
       "    <tr style=\"text-align: right;\">\n",
       "      <th></th>\n",
       "      <th>subreddit</th>\n",
       "      <th>author</th>\n",
       "      <th>date</th>\n",
       "      <th>post</th>\n",
       "      <th>automated_readability_index</th>\n",
       "      <th>coleman_liau_index</th>\n",
       "      <th>flesch_kincaid_grade_level</th>\n",
       "      <th>flesch_reading_ease</th>\n",
       "      <th>gulpease_index</th>\n",
       "      <th>gunning_fog_index</th>\n",
       "      <th>...</th>\n",
       "      <th>tfidf_wish</th>\n",
       "      <th>tfidf_without</th>\n",
       "      <th>tfidf_wonder</th>\n",
       "      <th>tfidf_work</th>\n",
       "      <th>tfidf_worri</th>\n",
       "      <th>tfidf_wors</th>\n",
       "      <th>tfidf_would</th>\n",
       "      <th>tfidf_wrong</th>\n",
       "      <th>tfidf_x200b</th>\n",
       "      <th>tfidf_year</th>\n",
       "    </tr>\n",
       "  </thead>\n",
       "  <tbody>\n",
       "    <tr>\n",
       "      <th>0</th>\n",
       "      <td>healthanxiety</td>\n",
       "      <td>Nomis176</td>\n",
       "      <td>1/1/2018</td>\n",
       "      <td>Final doctor appointment tomorrow, tired of co...</td>\n",
       "      <td>9.137909</td>\n",
       "      <td>7.282428</td>\n",
       "      <td>8.616061</td>\n",
       "      <td>72.474091</td>\n",
       "      <td>61.090909</td>\n",
       "      <td>11.345455</td>\n",
       "      <td>...</td>\n",
       "      <td>0.0</td>\n",
       "      <td>0.0</td>\n",
       "      <td>0.0</td>\n",
       "      <td>0.000000</td>\n",
       "      <td>0.000000</td>\n",
       "      <td>0.0</td>\n",
       "      <td>0.0</td>\n",
       "      <td>0.000000</td>\n",
       "      <td>0.0</td>\n",
       "      <td>0.055919</td>\n",
       "    </tr>\n",
       "    <tr>\n",
       "      <th>1</th>\n",
       "      <td>healthanxiety</td>\n",
       "      <td>psychstudent317</td>\n",
       "      <td>1/1/2018</td>\n",
       "      <td>Anyone have bone or muscle pain that was stres...</td>\n",
       "      <td>4.399892</td>\n",
       "      <td>7.131386</td>\n",
       "      <td>3.665806</td>\n",
       "      <td>87.185376</td>\n",
       "      <td>74.161290</td>\n",
       "      <td>5.423656</td>\n",
       "      <td>...</td>\n",
       "      <td>0.0</td>\n",
       "      <td>0.0</td>\n",
       "      <td>0.0</td>\n",
       "      <td>0.000000</td>\n",
       "      <td>0.290466</td>\n",
       "      <td>0.0</td>\n",
       "      <td>0.0</td>\n",
       "      <td>0.000000</td>\n",
       "      <td>0.0</td>\n",
       "      <td>0.000000</td>\n",
       "    </tr>\n",
       "    <tr>\n",
       "      <th>2</th>\n",
       "      <td>healthanxiety</td>\n",
       "      <td>bulk_barn</td>\n",
       "      <td>1/1/2018</td>\n",
       "      <td>Listening to your body? I'm curious how those ...</td>\n",
       "      <td>3.590660</td>\n",
       "      <td>4.930895</td>\n",
       "      <td>4.605802</td>\n",
       "      <td>85.640967</td>\n",
       "      <td>72.584906</td>\n",
       "      <td>7.564151</td>\n",
       "      <td>...</td>\n",
       "      <td>0.0</td>\n",
       "      <td>0.0</td>\n",
       "      <td>0.0</td>\n",
       "      <td>0.110757</td>\n",
       "      <td>0.000000</td>\n",
       "      <td>0.0</td>\n",
       "      <td>0.0</td>\n",
       "      <td>0.332673</td>\n",
       "      <td>0.0</td>\n",
       "      <td>0.000000</td>\n",
       "    </tr>\n",
       "    <tr>\n",
       "      <th>3</th>\n",
       "      <td>healthanxiety</td>\n",
       "      <td>AutoModerator</td>\n",
       "      <td>1/1/2018</td>\n",
       "      <td>Weekly /r/HealthAnxiety Challenge - Exercise A...</td>\n",
       "      <td>4.515682</td>\n",
       "      <td>7.033342</td>\n",
       "      <td>5.059091</td>\n",
       "      <td>78.383636</td>\n",
       "      <td>72.863636</td>\n",
       "      <td>8.945455</td>\n",
       "      <td>...</td>\n",
       "      <td>0.0</td>\n",
       "      <td>0.0</td>\n",
       "      <td>0.0</td>\n",
       "      <td>0.000000</td>\n",
       "      <td>0.000000</td>\n",
       "      <td>0.0</td>\n",
       "      <td>0.0</td>\n",
       "      <td>0.000000</td>\n",
       "      <td>0.0</td>\n",
       "      <td>0.000000</td>\n",
       "    </tr>\n",
       "    <tr>\n",
       "      <th>4</th>\n",
       "      <td>healthanxiety</td>\n",
       "      <td>parthkhurana7</td>\n",
       "      <td>1/1/2018</td>\n",
       "      <td>This is killing me So i had a bacterial stomac...</td>\n",
       "      <td>3.034388</td>\n",
       "      <td>5.356252</td>\n",
       "      <td>3.977494</td>\n",
       "      <td>85.306958</td>\n",
       "      <td>76.721519</td>\n",
       "      <td>7.757637</td>\n",
       "      <td>...</td>\n",
       "      <td>0.0</td>\n",
       "      <td>0.0</td>\n",
       "      <td>0.0</td>\n",
       "      <td>0.000000</td>\n",
       "      <td>0.000000</td>\n",
       "      <td>0.0</td>\n",
       "      <td>0.0</td>\n",
       "      <td>0.000000</td>\n",
       "      <td>0.0</td>\n",
       "      <td>0.000000</td>\n",
       "    </tr>\n",
       "  </tbody>\n",
       "</table>\n",
       "<p>5 rows × 350 columns</p>\n",
       "</div>"
      ],
      "text/plain": [
       "       subreddit           author      date  \\\n",
       "0  healthanxiety         Nomis176  1/1/2018   \n",
       "1  healthanxiety  psychstudent317  1/1/2018   \n",
       "2  healthanxiety        bulk_barn  1/1/2018   \n",
       "3  healthanxiety    AutoModerator  1/1/2018   \n",
       "4  healthanxiety    parthkhurana7  1/1/2018   \n",
       "\n",
       "                                                post  \\\n",
       "0  Final doctor appointment tomorrow, tired of co...   \n",
       "1  Anyone have bone or muscle pain that was stres...   \n",
       "2  Listening to your body? I'm curious how those ...   \n",
       "3  Weekly /r/HealthAnxiety Challenge - Exercise A...   \n",
       "4  This is killing me So i had a bacterial stomac...   \n",
       "\n",
       "   automated_readability_index  coleman_liau_index  \\\n",
       "0                     9.137909            7.282428   \n",
       "1                     4.399892            7.131386   \n",
       "2                     3.590660            4.930895   \n",
       "3                     4.515682            7.033342   \n",
       "4                     3.034388            5.356252   \n",
       "\n",
       "   flesch_kincaid_grade_level  flesch_reading_ease  gulpease_index  \\\n",
       "0                    8.616061            72.474091       61.090909   \n",
       "1                    3.665806            87.185376       74.161290   \n",
       "2                    4.605802            85.640967       72.584906   \n",
       "3                    5.059091            78.383636       72.863636   \n",
       "4                    3.977494            85.306958       76.721519   \n",
       "\n",
       "   gunning_fog_index  ...  tfidf_wish  tfidf_without  tfidf_wonder  \\\n",
       "0          11.345455  ...         0.0            0.0           0.0   \n",
       "1           5.423656  ...         0.0            0.0           0.0   \n",
       "2           7.564151  ...         0.0            0.0           0.0   \n",
       "3           8.945455  ...         0.0            0.0           0.0   \n",
       "4           7.757637  ...         0.0            0.0           0.0   \n",
       "\n",
       "   tfidf_work  tfidf_worri  tfidf_wors  tfidf_would  tfidf_wrong  tfidf_x200b  \\\n",
       "0    0.000000     0.000000         0.0          0.0     0.000000          0.0   \n",
       "1    0.000000     0.290466         0.0          0.0     0.000000          0.0   \n",
       "2    0.110757     0.000000         0.0          0.0     0.332673          0.0   \n",
       "3    0.000000     0.000000         0.0          0.0     0.000000          0.0   \n",
       "4    0.000000     0.000000         0.0          0.0     0.000000          0.0   \n",
       "\n",
       "   tfidf_year  \n",
       "0    0.055919  \n",
       "1    0.000000  \n",
       "2    0.000000  \n",
       "3    0.000000  \n",
       "4    0.000000  \n",
       "\n",
       "[5 rows x 350 columns]"
      ]
     },
     "execution_count": 2,
     "metadata": {},
     "output_type": "execute_result"
    }
   ],
   "source": [
    "df_anxiety = pd.read_csv('../data/healthanxiety_dataset.csv')\n",
    "\n",
    "df_anxiety.head()"
   ]
  },
  {
   "cell_type": "markdown",
   "metadata": {},
   "source": [
    "- Bipolar Dataset Reading"
   ]
  },
  {
   "cell_type": "code",
   "execution_count": 3,
   "metadata": {},
   "outputs": [
    {
     "data": {
      "text/html": [
       "<div>\n",
       "<style scoped>\n",
       "    .dataframe tbody tr th:only-of-type {\n",
       "        vertical-align: middle;\n",
       "    }\n",
       "\n",
       "    .dataframe tbody tr th {\n",
       "        vertical-align: top;\n",
       "    }\n",
       "\n",
       "    .dataframe thead th {\n",
       "        text-align: right;\n",
       "    }\n",
       "</style>\n",
       "<table border=\"1\" class=\"dataframe\">\n",
       "  <thead>\n",
       "    <tr style=\"text-align: right;\">\n",
       "      <th></th>\n",
       "      <th>subreddit</th>\n",
       "      <th>author</th>\n",
       "      <th>date</th>\n",
       "      <th>post</th>\n",
       "      <th>automated_readability_index</th>\n",
       "      <th>coleman_liau_index</th>\n",
       "      <th>flesch_kincaid_grade_level</th>\n",
       "      <th>flesch_reading_ease</th>\n",
       "      <th>gulpease_index</th>\n",
       "      <th>gunning_fog_index</th>\n",
       "      <th>...</th>\n",
       "      <th>tfidf_wish</th>\n",
       "      <th>tfidf_without</th>\n",
       "      <th>tfidf_wonder</th>\n",
       "      <th>tfidf_work</th>\n",
       "      <th>tfidf_worri</th>\n",
       "      <th>tfidf_wors</th>\n",
       "      <th>tfidf_would</th>\n",
       "      <th>tfidf_wrong</th>\n",
       "      <th>tfidf_x200b</th>\n",
       "      <th>tfidf_year</th>\n",
       "    </tr>\n",
       "  </thead>\n",
       "  <tbody>\n",
       "    <tr>\n",
       "      <th>0</th>\n",
       "      <td>bipolarreddit</td>\n",
       "      <td>TanagerOffTrack</td>\n",
       "      <td>01/01/2018</td>\n",
       "      <td>What birth control are you on? I tried an IUD ...</td>\n",
       "      <td>1,02695E+16</td>\n",
       "      <td>3,51772E+16</td>\n",
       "      <td>3,31905E+14</td>\n",
       "      <td>8,577E+15</td>\n",
       "      <td>8,6807E+15</td>\n",
       "      <td>6,06416E+15</td>\n",
       "      <td>...</td>\n",
       "      <td>0</td>\n",
       "      <td>0</td>\n",
       "      <td>0</td>\n",
       "      <td>0</td>\n",
       "      <td>0</td>\n",
       "      <td>0</td>\n",
       "      <td>1,52812E+16</td>\n",
       "      <td>0</td>\n",
       "      <td>0</td>\n",
       "      <td>0</td>\n",
       "    </tr>\n",
       "    <tr>\n",
       "      <th>1</th>\n",
       "      <td>bipolarreddit</td>\n",
       "      <td>DuplicitousSnake</td>\n",
       "      <td>01/01/2018</td>\n",
       "      <td>Hypersexuality I was diagnosed with bipolar un...</td>\n",
       "      <td>6,12041E+15</td>\n",
       "      <td>5,77249E+16</td>\n",
       "      <td>7,65747E+15</td>\n",
       "      <td>7,20244E+15</td>\n",
       "      <td>6,62671E+15</td>\n",
       "      <td>1,01369E+16</td>\n",
       "      <td>...</td>\n",
       "      <td>0</td>\n",
       "      <td>0</td>\n",
       "      <td>0</td>\n",
       "      <td>1,37462E+16</td>\n",
       "      <td>0</td>\n",
       "      <td>0</td>\n",
       "      <td>0</td>\n",
       "      <td>0</td>\n",
       "      <td>0</td>\n",
       "      <td>1,21593E+16</td>\n",
       "    </tr>\n",
       "    <tr>\n",
       "      <th>2</th>\n",
       "      <td>bipolarreddit</td>\n",
       "      <td>dearangelou</td>\n",
       "      <td>01/01/2018</td>\n",
       "      <td>Meditation I have been using the free meditati...</td>\n",
       "      <td>18515625</td>\n",
       "      <td>4,57143E+16</td>\n",
       "      <td>4,12375E+15</td>\n",
       "      <td>7,97463E+15</td>\n",
       "      <td>855625</td>\n",
       "      <td>695</td>\n",
       "      <td>...</td>\n",
       "      <td>0</td>\n",
       "      <td>0</td>\n",
       "      <td>0</td>\n",
       "      <td>0</td>\n",
       "      <td>0</td>\n",
       "      <td>0</td>\n",
       "      <td>2,85224E+15</td>\n",
       "      <td>0</td>\n",
       "      <td>0</td>\n",
       "      <td>2,58562E+16</td>\n",
       "    </tr>\n",
       "    <tr>\n",
       "      <th>3</th>\n",
       "      <td>bipolarreddit</td>\n",
       "      <td>dootdoopdooq</td>\n",
       "      <td>01/01/2018</td>\n",
       "      <td>Family question diagnosis - vent Start with th...</td>\n",
       "      <td>7,6667E+15</td>\n",
       "      <td>3,18105E+15</td>\n",
       "      <td>2,47623E+16</td>\n",
       "      <td>9,19278E+14</td>\n",
       "      <td>8,71379E+15</td>\n",
       "      <td>5,58187E+15</td>\n",
       "      <td>...</td>\n",
       "      <td>0</td>\n",
       "      <td>0</td>\n",
       "      <td>0</td>\n",
       "      <td>5,75892E+14</td>\n",
       "      <td>0</td>\n",
       "      <td>0</td>\n",
       "      <td>0</td>\n",
       "      <td>8,64887E+15</td>\n",
       "      <td>0</td>\n",
       "      <td>0</td>\n",
       "    </tr>\n",
       "    <tr>\n",
       "      <th>4</th>\n",
       "      <td>bipolarreddit</td>\n",
       "      <td>lemonyellow3</td>\n",
       "      <td>01/01/2018</td>\n",
       "      <td>Unable to stop talking to myself- any ideas/ex...</td>\n",
       "      <td>3,66308E+16</td>\n",
       "      <td>6,748E+15</td>\n",
       "      <td>4,8363E+15</td>\n",
       "      <td>7,54472E+15</td>\n",
       "      <td>8,01828E+15</td>\n",
       "      <td>7,68289E+15</td>\n",
       "      <td>...</td>\n",
       "      <td>0</td>\n",
       "      <td>0</td>\n",
       "      <td>0</td>\n",
       "      <td>0</td>\n",
       "      <td>0</td>\n",
       "      <td>0</td>\n",
       "      <td>0</td>\n",
       "      <td>0</td>\n",
       "      <td>0</td>\n",
       "      <td>0</td>\n",
       "    </tr>\n",
       "  </tbody>\n",
       "</table>\n",
       "<p>5 rows × 350 columns</p>\n",
       "</div>"
      ],
      "text/plain": [
       "       subreddit            author        date  \\\n",
       "0  bipolarreddit   TanagerOffTrack  01/01/2018   \n",
       "1  bipolarreddit  DuplicitousSnake  01/01/2018   \n",
       "2  bipolarreddit       dearangelou  01/01/2018   \n",
       "3  bipolarreddit      dootdoopdooq  01/01/2018   \n",
       "4  bipolarreddit      lemonyellow3  01/01/2018   \n",
       "\n",
       "                                                post  \\\n",
       "0  What birth control are you on? I tried an IUD ...   \n",
       "1  Hypersexuality I was diagnosed with bipolar un...   \n",
       "2  Meditation I have been using the free meditati...   \n",
       "3  Family question diagnosis - vent Start with th...   \n",
       "4  Unable to stop talking to myself- any ideas/ex...   \n",
       "\n",
       "  automated_readability_index coleman_liau_index flesch_kincaid_grade_level  \\\n",
       "0                 1,02695E+16        3,51772E+16                3,31905E+14   \n",
       "1                 6,12041E+15        5,77249E+16                7,65747E+15   \n",
       "2                    18515625        4,57143E+16                4,12375E+15   \n",
       "3                  7,6667E+15        3,18105E+15                2,47623E+16   \n",
       "4                 3,66308E+16          6,748E+15                 4,8363E+15   \n",
       "\n",
       "  flesch_reading_ease gulpease_index gunning_fog_index  ... tfidf_wish  \\\n",
       "0           8,577E+15     8,6807E+15       6,06416E+15  ...          0   \n",
       "1         7,20244E+15    6,62671E+15       1,01369E+16  ...          0   \n",
       "2         7,97463E+15         855625               695  ...          0   \n",
       "3         9,19278E+14    8,71379E+15       5,58187E+15  ...          0   \n",
       "4         7,54472E+15    8,01828E+15       7,68289E+15  ...          0   \n",
       "\n",
       "  tfidf_without tfidf_wonder   tfidf_work  tfidf_worri  tfidf_wors  \\\n",
       "0             0            0            0            0           0   \n",
       "1             0            0  1,37462E+16            0           0   \n",
       "2             0            0            0            0           0   \n",
       "3             0            0  5,75892E+14            0           0   \n",
       "4             0            0            0            0           0   \n",
       "\n",
       "   tfidf_would  tfidf_wrong  tfidf_x200b   tfidf_year  \n",
       "0  1,52812E+16            0            0            0  \n",
       "1            0            0            0  1,21593E+16  \n",
       "2  2,85224E+15            0            0  2,58562E+16  \n",
       "3            0  8,64887E+15            0            0  \n",
       "4            0            0            0            0  \n",
       "\n",
       "[5 rows x 350 columns]"
      ]
     },
     "execution_count": 3,
     "metadata": {},
     "output_type": "execute_result"
    }
   ],
   "source": [
    "df_bipolar = pd.read_csv('../data/bipolar_dataset.csv', sep=';', encoding='latin1')\n",
    "\n",
    "df_bipolar.head()"
   ]
  },
  {
   "cell_type": "markdown",
   "metadata": {},
   "source": [
    "- Analyze Readibility Column"
   ]
  },
  {
   "cell_type": "code",
   "execution_count": 4,
   "metadata": {},
   "outputs": [
    {
     "data": {
      "image/png": "[encoded data removed]",
      "text/plain": [
       "<Figure size 1200x800 with 1 Axes>"
      ]
     },
     "metadata": {},
     "output_type": "display_data"
    },
    {
     "data": {
      "image/png": "[encoded data removed]",
      "text/plain": [
       "<Figure size 1200x800 with 1 Axes>"
      ]
     },
     "metadata": {},
     "output_type": "display_data"
    }
   ],
   "source": [
    "from matplotlib import pyplot as plt\n",
    "import seaborn as sns\n",
    "\n",
    "readability_columns = [\n",
    "    \"automated_readability_index\",\n",
    "    \"coleman_liau_index\",\n",
    "    \"flesch_kincaid_grade_level\",\n",
    "    \"flesch_reading_ease\",\n",
    "    \"gulpease_index\",\n",
    "    \"gunning_fog_index\",\n",
    "]\n",
    "\n",
    "# Ensure the columns are numeric\n",
    "df_anxiety[readability_columns] = df_anxiety[readability_columns].apply(pd.to_numeric, errors='coerce')\n",
    "df_bipolar[readability_columns] = df_bipolar[readability_columns].apply(pd.to_numeric, errors='coerce')\n",
    "\n",
    "plt.figure(figsize=(12, 8))\n",
    "for col in readability_columns:\n",
    "    sns.kdeplot(df_anxiety[col], label=col, fill=True)\n",
    "plt.title(\"Anxiety Dataframes Readability Indices Distribution\")\n",
    "plt.xlabel(\"Score\")\n",
    "plt.ylabel(\"Density\")\n",
    "plt.legend()\n",
    "plt.show()\n",
    "\n",
    "plt.figure(figsize=(12, 8))\n",
    "for col in readability_columns:\n",
    "    sns.kdeplot(df_bipolar[col], label=col, fill=True)\n",
    "plt.title(\"Bipolar Dataframes Readability Indices Distribution\")\n",
    "plt.xlabel(\"Score\")\n",
    "plt.ylabel(\"Density\")\n",
    "plt.legend()\n",
    "plt.show()"
   ]
  },
  {
   "cell_type": "markdown",
   "metadata": {},
   "source": [
    "- Check for missing values + Drop NaN Values"
   ]
  },
  {
   "cell_type": "code",
   "execution_count": 5,
   "metadata": {},
   "outputs": [
    {
     "name": "stdout",
     "output_type": "stream",
     "text": [
      "Unnamed: 0      1\n",
      "statement     364\n",
      "status          3\n",
      "dtype: int64\n",
      "subreddit                      0\n",
      "author                         0\n",
      "date                           0\n",
      "post                           0\n",
      "automated_readability_index    0\n",
      "                              ..\n",
      "tfidf_wors                     0\n",
      "tfidf_would                    0\n",
      "tfidf_wrong                    0\n",
      "tfidf_x200b                    0\n",
      "tfidf_year                     0\n",
      "Length: 350, dtype: int64\n",
      "subreddit                         0\n",
      "author                            0\n",
      "date                              0\n",
      "post                              0\n",
      "automated_readability_index    1655\n",
      "                               ... \n",
      "tfidf_wors                        0\n",
      "tfidf_would                       0\n",
      "tfidf_wrong                       0\n",
      "tfidf_x200b                       0\n",
      "tfidf_year                        0\n",
      "Length: 350, dtype: int64\n"
     ]
    }
   ],
   "source": [
    "# Check for missing values\n",
    "print(df.isnull().sum())\n",
    "print(df_anxiety.isnull().sum())\n",
    "print(df_bipolar.isnull().sum())\n",
    "\n",
    "# Drop rows with missing values\n",
    "df_anxiety = df_anxiety.dropna()\n",
    "df_bipolar = df_bipolar.dropna()"
   ]
  },
  {
   "cell_type": "code",
   "execution_count": 6,
   "metadata": {},
   "outputs": [
    {
     "name": "stdout",
     "output_type": "stream",
     "text": [
      "Unnamed: 0    0\n",
      "statement     0\n",
      "status        0\n",
      "dtype: int64\n"
     ]
    }
   ],
   "source": [
    "# drop missing values on the main dataframe\n",
    "df = df.dropna()\n",
    "\n",
    "# Check for missing values\n",
    "print(df.isnull().sum())"
   ]
  },
  {
   "cell_type": "markdown",
   "metadata": {},
   "source": [
    "- Dropping unnecessary column in anxiety + bipolar dataset"
   ]
  },
  {
   "cell_type": "code",
   "execution_count": 7,
   "metadata": {},
   "outputs": [],
   "source": [
    "df_anxiety = df_anxiety['post']\n",
    "df_bipolar = df_bipolar['post']"
   ]
  },
  {
   "cell_type": "markdown",
   "metadata": {},
   "source": [
    "- Concatenate df_anxiety to df with 'Anxiety' as the main status\n",
    "- Concatenate df_bipolar to df with 'Bipolar' as the main status"
   ]
  },
  {
   "cell_type": "code",
   "execution_count": 8,
   "metadata": {},
   "outputs": [
    {
     "data": {
      "text/html": [
       "<div>\n",
       "<style scoped>\n",
       "    .dataframe tbody tr th:only-of-type {\n",
       "        vertical-align: middle;\n",
       "    }\n",
       "\n",
       "    .dataframe tbody tr th {\n",
       "        vertical-align: top;\n",
       "    }\n",
       "\n",
       "    .dataframe thead th {\n",
       "        text-align: right;\n",
       "    }\n",
       "</style>\n",
       "<table border=\"1\" class=\"dataframe\">\n",
       "  <thead>\n",
       "    <tr style=\"text-align: right;\">\n",
       "      <th></th>\n",
       "      <th>statement</th>\n",
       "      <th>status</th>\n",
       "    </tr>\n",
       "  </thead>\n",
       "  <tbody>\n",
       "    <tr>\n",
       "      <th>0</th>\n",
       "      <td>Final doctor appointment tomorrow, tired of co...</td>\n",
       "      <td>Anxiety</td>\n",
       "    </tr>\n",
       "    <tr>\n",
       "      <th>1</th>\n",
       "      <td>Anyone have bone or muscle pain that was stres...</td>\n",
       "      <td>Anxiety</td>\n",
       "    </tr>\n",
       "    <tr>\n",
       "      <th>2</th>\n",
       "      <td>Listening to your body? I'm curious how those ...</td>\n",
       "      <td>Anxiety</td>\n",
       "    </tr>\n",
       "    <tr>\n",
       "      <th>3</th>\n",
       "      <td>Weekly /r/HealthAnxiety Challenge - Exercise A...</td>\n",
       "      <td>Anxiety</td>\n",
       "    </tr>\n",
       "    <tr>\n",
       "      <th>4</th>\n",
       "      <td>This is killing me So i had a bacterial stomac...</td>\n",
       "      <td>Anxiety</td>\n",
       "    </tr>\n",
       "  </tbody>\n",
       "</table>\n",
       "</div>"
      ],
      "text/plain": [
       "                                           statement   status\n",
       "0  Final doctor appointment tomorrow, tired of co...  Anxiety\n",
       "1  Anyone have bone or muscle pain that was stres...  Anxiety\n",
       "2  Listening to your body? I'm curious how those ...  Anxiety\n",
       "3  Weekly /r/HealthAnxiety Challenge - Exercise A...  Anxiety\n",
       "4  This is killing me So i had a bacterial stomac...  Anxiety"
      ]
     },
     "execution_count": 8,
     "metadata": {},
     "output_type": "execute_result"
    }
   ],
   "source": [
    "df_anxiety = df_anxiety.to_frame(name = \"statement\")\n",
    "df_bipolar = df_bipolar.to_frame(name = \"statement\")\n",
    "\n",
    "df_anxiety['status'] = 'Anxiety'\n",
    "df_bipolar['status'] = 'Bipolar'\n",
    "\n",
    "df_anxiety.head()"
   ]
  },
  {
   "cell_type": "code",
   "execution_count": 9,
   "metadata": {},
   "outputs": [
    {
     "data": {
      "text/html": [
       "<div>\n",
       "<style scoped>\n",
       "    .dataframe tbody tr th:only-of-type {\n",
       "        vertical-align: middle;\n",
       "    }\n",
       "\n",
       "    .dataframe tbody tr th {\n",
       "        vertical-align: top;\n",
       "    }\n",
       "\n",
       "    .dataframe thead th {\n",
       "        text-align: right;\n",
       "    }\n",
       "</style>\n",
       "<table border=\"1\" class=\"dataframe\">\n",
       "  <thead>\n",
       "    <tr style=\"text-align: right;\">\n",
       "      <th></th>\n",
       "      <th>Unnamed: 0</th>\n",
       "      <th>statement</th>\n",
       "      <th>status</th>\n",
       "    </tr>\n",
       "  </thead>\n",
       "  <tbody>\n",
       "    <tr>\n",
       "      <th>54642</th>\n",
       "      <td>NaN</td>\n",
       "      <td>I’ve been just kind of denying or ignoring thi...</td>\n",
       "      <td>Anxiety</td>\n",
       "    </tr>\n",
       "    <tr>\n",
       "      <th>54643</th>\n",
       "      <td>NaN</td>\n",
       "      <td>Body Pulling after waking up. I woke up this m...</td>\n",
       "      <td>Anxiety</td>\n",
       "    </tr>\n",
       "    <tr>\n",
       "      <th>54644</th>\n",
       "      <td>NaN</td>\n",
       "      <td>mole on my back left my mind racing link to pi...</td>\n",
       "      <td>Anxiety</td>\n",
       "    </tr>\n",
       "    <tr>\n",
       "      <th>54645</th>\n",
       "      <td>NaN</td>\n",
       "      <td>another health scare so about an hour ago? i w...</td>\n",
       "      <td>Anxiety</td>\n",
       "    </tr>\n",
       "    <tr>\n",
       "      <th>54646</th>\n",
       "      <td>NaN</td>\n",
       "      <td>pregnancy scare i convinced myself i had gotte...</td>\n",
       "      <td>Anxiety</td>\n",
       "    </tr>\n",
       "  </tbody>\n",
       "</table>\n",
       "</div>"
      ],
      "text/plain": [
       "      Unnamed: 0                                          statement   status\n",
       "54642        NaN  I’ve been just kind of denying or ignoring thi...  Anxiety\n",
       "54643        NaN  Body Pulling after waking up. I woke up this m...  Anxiety\n",
       "54644        NaN  mole on my back left my mind racing link to pi...  Anxiety\n",
       "54645        NaN  another health scare so about an hour ago? i w...  Anxiety\n",
       "54646        NaN  pregnancy scare i convinced myself i had gotte...  Anxiety"
      ]
     },
     "execution_count": 9,
     "metadata": {},
     "output_type": "execute_result"
    }
   ],
   "source": [
    "# Combine the dataframes\n",
    "df = pd.concat([df, df_anxiety, df_bipolar], ignore_index=True)\n",
    "\n",
    "df.tail()"
   ]
  },
  {
   "cell_type": "markdown",
   "metadata": {},
   "source": [
    "- Removing 'Unnamed' Column in main dataframes"
   ]
  },
  {
   "cell_type": "code",
   "execution_count": 10,
   "metadata": {},
   "outputs": [
    {
     "data": {
      "text/html": [
       "<div>\n",
       "<style scoped>\n",
       "    .dataframe tbody tr th:only-of-type {\n",
       "        vertical-align: middle;\n",
       "    }\n",
       "\n",
       "    .dataframe tbody tr th {\n",
       "        vertical-align: top;\n",
       "    }\n",
       "\n",
       "    .dataframe thead th {\n",
       "        text-align: right;\n",
       "    }\n",
       "</style>\n",
       "<table border=\"1\" class=\"dataframe\">\n",
       "  <thead>\n",
       "    <tr style=\"text-align: right;\">\n",
       "      <th></th>\n",
       "      <th>Unnamed: 0</th>\n",
       "      <th>statement</th>\n",
       "      <th>status</th>\n",
       "    </tr>\n",
       "  </thead>\n",
       "  <tbody>\n",
       "    <tr>\n",
       "      <th>54642</th>\n",
       "      <td>37691</td>\n",
       "      <td>so a a kid i moved around a lot because my dad...</td>\n",
       "      <td>Depression</td>\n",
       "    </tr>\n",
       "    <tr>\n",
       "      <th>54643</th>\n",
       "      <td>28552</td>\n",
       "      <td>Public speaking in class frequently reduced me...</td>\n",
       "      <td>Stress</td>\n",
       "    </tr>\n",
       "    <tr>\n",
       "      <th>54644</th>\n",
       "      <td>36836</td>\n",
       "      <td>I just had to google &amp;quot;How to insert Micro...</td>\n",
       "      <td>Normal</td>\n",
       "    </tr>\n",
       "    <tr>\n",
       "      <th>54645</th>\n",
       "      <td>33660</td>\n",
       "      <td>not to mention 40,000 wounded soldiers.</td>\n",
       "      <td>Normal</td>\n",
       "    </tr>\n",
       "    <tr>\n",
       "      <th>54646</th>\n",
       "      <td>36979</td>\n",
       "      <td>If you want to win, first you need to understa...</td>\n",
       "      <td>Normal</td>\n",
       "    </tr>\n",
       "  </tbody>\n",
       "</table>\n",
       "</div>"
      ],
      "text/plain": [
       "      Unnamed: 0                                          statement  \\\n",
       "54642      37691  so a a kid i moved around a lot because my dad...   \n",
       "54643      28552  Public speaking in class frequently reduced me...   \n",
       "54644      36836  I just had to google &quot;How to insert Micro...   \n",
       "54645      33660            not to mention 40,000 wounded soldiers.   \n",
       "54646      36979  If you want to win, first you need to understa...   \n",
       "\n",
       "           status  \n",
       "54642  Depression  \n",
       "54643      Stress  \n",
       "54644      Normal  \n",
       "54645      Normal  \n",
       "54646      Normal  "
      ]
     },
     "execution_count": 10,
     "metadata": {},
     "output_type": "execute_result"
    }
   ],
   "source": [
    "df = df.sample(frac=1).reset_index(drop=True)\n",
    "\n",
    "df.tail()"
   ]
  },
  {
   "cell_type": "markdown",
   "metadata": {},
   "source": [
    "## 2. Data Preprocessing"
   ]
  },
  {
   "cell_type": "markdown",
   "metadata": {},
   "source": [
    "- Data distributions checking"
   ]
  },
  {
   "cell_type": "code",
   "execution_count": 11,
   "metadata": {},
   "outputs": [
    {
     "data": {
      "text/plain": [
       "<Axes: xlabel='status', ylabel='statement'>"
      ]
     },
     "execution_count": 11,
     "metadata": {},
     "output_type": "execute_result"
    },
    {
     "data": {
      "image/png": "[encoded data removed]",
      "text/plain": [
       "<Figure size 1000x500 with 1 Axes>"
      ]
     },
     "metadata": {},
     "output_type": "display_data"
    }
   ],
   "source": [
    "import numpy as np\n",
    "\n",
    "df.replace(\"\", np.nan, inplace=True)\n",
    "df.dropna(inplace=True)\n",
    "df.reset_index(drop=True, inplace=True)\n",
    "data = df.groupby('status')['statement'].count().sort_values().reset_index()\n",
    "plt.figure(figsize = (10,5))\n",
    "sns.barplot(data=data,x='status',y='statement')"
   ]
  },
  {
   "cell_type": "markdown",
   "metadata": {},
   "source": [
    "- Regex to remove unneeded symbol, punctuation, etc."
   ]
  },
  {
   "cell_type": "code",
   "execution_count": 12,
   "metadata": {},
   "outputs": [],
   "source": [
    "import re\n",
    "from string import punctuation\n",
    "\n",
    "def preprocess_text(text):\n",
    "    text = text.lower()\n",
    "    text = re.sub(r'\\[\\]]*', '', text)\n",
    "    text = re.sub(r'https?://\\S+|www\\.\\S+', '', text)\n",
    "    text = re.sub(r'<.*?>+', '', text)\n",
    "    text = re.sub(r'[%s]' % re.escape(punctuation), '', text)\n",
    "    text = re.sub(r'\\n', '', text)\n",
    "    text = re.sub(r'\\w*\\d\\w*', '', text)\n",
    "    return text\n",
    "\n",
    "df['statement'] = df['statement'].apply(preprocess_text)"
   ]
  },
  {
   "cell_type": "markdown",
   "metadata": {},
   "source": [
    "- Using stopwords to remove unneeded words"
   ]
  },
  {
   "cell_type": "code",
   "execution_count": 13,
   "metadata": {},
   "outputs": [],
   "source": [
    "from nltk.corpus import stopwords\n",
    "\n",
    "eng_stopwords = stopwords.words('english')\n",
    "\n",
    "def remove_stopwords(text: str) -> str:\n",
    "    return ' '.join([word for word in text.split() if word not in eng_stopwords])\n",
    "\n",
    "df['statement'] = df['statement'].apply(remove_stopwords)"
   ]
  },
  {
   "cell_type": "markdown",
   "metadata": {},
   "source": [
    "- WordNetLemmatizer **(Understands word by it's context according to its sentences)**"
   ]
  },
  {
   "cell_type": "code",
   "execution_count": 14,
   "metadata": {},
   "outputs": [],
   "source": [
    "import spacy\n",
    "from nltk.stem import WordNetLemmatizer\n",
    "\n",
    "lemmatizer = WordNetLemmatizer()\n",
    "nlp = spacy.load(\"en_core_web_sm\")\n",
    "\n",
    "def understand_text(text: str) -> str:\n",
    "    doc = nlp(text)\n",
    "    tokens = [token.lemma_ for token in doc if not token.is_stop]\n",
    "\n",
    "    return ' '.join(tokens)\n",
    "\n",
    "df['statement'] = df['statement'].apply(understand_text)"
   ]
  },
  {
   "cell_type": "markdown",
   "metadata": {},
   "source": [
    "- Dropping row for:\n",
    "  - Empty statements\n",
    "  - Whitespace statements\n",
    "  - Duplicate statements"
   ]
  },
  {
   "cell_type": "code",
   "execution_count": 15,
   "metadata": {},
   "outputs": [],
   "source": [
    "# Dropping empty statement\n",
    "df = df[df['statement'] != '']\n",
    "\n",
    "# Dropping whitespace statement\n",
    "df = df[df['statement'].str.strip() != '']\n",
    "\n",
    "# Dropping duplicate statement\n",
    "df = df.drop_duplicates(subset='statement')\n",
    "\n",
    "# Dropping statement with more than 100 words\n",
    "df = df[df['statement'].apply(lambda x: len(x.split()) <= 100)]"
   ]
  },
  {
   "cell_type": "markdown",
   "metadata": {},
   "source": [
    "- Shape checking"
   ]
  },
  {
   "cell_type": "code",
   "execution_count": 16,
   "metadata": {},
   "outputs": [
    {
     "data": {
      "text/plain": [
       "(44852, 3)"
      ]
     },
     "execution_count": 16,
     "metadata": {},
     "output_type": "execute_result"
    }
   ],
   "source": [
    "df.shape"
   ]
  },
  {
   "cell_type": "markdown",
   "metadata": {},
   "source": [
    "- Data Splitting (statements & labels)"
   ]
  },
  {
   "cell_type": "code",
   "execution_count": 17,
   "metadata": {},
   "outputs": [],
   "source": [
    "train_statements = df['statement'].values\n",
    "train_labels = df['status'].values"
   ]
  },
  {
   "cell_type": "markdown",
   "metadata": {},
   "source": [
    "## 3. Encode the data (statements & labels)"
   ]
  },
  {
   "cell_type": "markdown",
   "metadata": {},
   "source": [
    "- statements encoding\n",
    "\n",
    "  1. Create a tokenizer: `tf.keras.preprocessing.text.Tokenizer(...)`\n",
    "\n",
    "    - Takes only 10000 words that will be kept onto the vocabulary.\n",
    "    - oov_token: \"out of vocabulary\" -> use to represent any word that is not part of tokenizer's vocabulary.\n",
    "  2. Apply the sentences: `tokenizer.fit_on_texts(...)`\n",
    "    - `fit_on_texts()`: **Counts word frequencies** in the given text and **creates an index** where each word is *assigned* an integer.\n",
    "  3. Convert each sentence into a sequence of integers: `texts_to_sequences(...)`\n",
    "      - Words that **are not in the top 10000** most frequent words are replaced by the index for the `<OOV>` token."
   ]
  },
  {
   "cell_type": "code",
   "execution_count": 18,
   "metadata": {},
   "outputs": [],
   "source": [
    "import tensorflow as tf\n",
    "\n",
    "tokenizer = tf.keras.preprocessing.text.Tokenizer(num_words=1000, oov_token='<OOV>')\n",
    "\n",
    "tokenizer.fit_on_texts(train_statements)\n",
    "\n",
    "train_sequences = tokenizer.texts_to_sequences(train_statements)"
   ]
  },
  {
   "cell_type": "markdown",
   "metadata": {},
   "source": [
    "- Getting max length of a token for padded sequences making"
   ]
  },
  {
   "cell_type": "code",
   "execution_count": 19,
   "metadata": {},
   "outputs": [
    {
     "data": {
      "text/plain": [
       "100"
      ]
     },
     "execution_count": 19,
     "metadata": {},
     "output_type": "execute_result"
    }
   ],
   "source": [
    "max_sequence_length = max(len(token) for token in train_sequences)\n",
    "\n",
    "max_sequence_length"
   ]
  },
  {
   "cell_type": "markdown",
   "metadata": {},
   "source": [
    "- Changing `train_sequences` into padded sequences\n",
    "\n",
    "  Why do we need to pads the sequences?\n",
    "\n",
    "  - Pads the sequences of integers is to ensure they all have the same length: `tf.keras.preprocessing.sequence.pad_sequences(...)`\n",
    "  - `maxlen=500`: Specifies that each sequence will have a maximum length of 500. **If a sequence is shorter than 500 words, it will be padded with zeros to make its length 500.**\n",
    "  - `padding='post'`: Specifies that the padding (zeros) **will be added to the end** of each sequence (after the text)."
   ]
  },
  {
   "cell_type": "code",
   "execution_count": 20,
   "metadata": {},
   "outputs": [
    {
     "data": {
      "text/plain": [
       "array([[  1,  21,  38, ...,   0,   0,   0],\n",
       "       [  6, 330, 170, ..., 436,   0,   0],\n",
       "       [  1,   1, 663, ...,   0,   0,   0],\n",
       "       ...,\n",
       "       [659,   1,   1, ...,   0,   0,   0],\n",
       "       [533,   1,   1, ...,   0,   0,   0],\n",
       "       [  4, 789,  25, ...,   0,   0,   0]], dtype=int32)"
      ]
     },
     "execution_count": 20,
     "metadata": {},
     "output_type": "execute_result"
    }
   ],
   "source": [
    "train_pad_sequences = tf.keras.preprocessing.sequence.pad_sequences(train_sequences, maxlen=max_sequence_length, padding='post', truncating='post')\n",
    "\n",
    "train_pad_sequences"
   ]
  },
  {
   "cell_type": "markdown",
   "metadata": {},
   "source": [
    "- One Hot Encoding"
   ]
  },
  {
   "cell_type": "code",
   "execution_count": 21,
   "metadata": {},
   "outputs": [
    {
     "data": {
      "text/plain": [
       "array([[0., 0., 0., ..., 0., 0., 0.],\n",
       "       [0., 0., 0., ..., 0., 0., 1.],\n",
       "       [0., 0., 0., ..., 0., 0., 0.],\n",
       "       ...,\n",
       "       [0., 0., 0., ..., 0., 0., 0.],\n",
       "       [0., 0., 0., ..., 0., 0., 0.],\n",
       "       [0., 0., 0., ..., 0., 0., 0.]])"
      ]
     },
     "execution_count": 21,
     "metadata": {},
     "output_type": "execute_result"
    }
   ],
   "source": [
    "from sklearn.preprocessing import LabelEncoder\n",
    "\n",
    "encoder = LabelEncoder()\n",
    "train_label_arrays = encoder.fit_transform(train_labels)\n",
    "\n",
    "# One-Hot Encoding\n",
    "train_label_arrays = tf.keras.utils.to_categorical(train_label_arrays)\n",
    "\n",
    "train_label_arrays"
   ]
  },
  {
   "cell_type": "markdown",
   "metadata": {},
   "source": [
    "- Shape checking"
   ]
  },
  {
   "cell_type": "code",
   "execution_count": 22,
   "metadata": {},
   "outputs": [
    {
     "data": {
      "text/plain": [
       "((44852, 100), (44852, 7))"
      ]
     },
     "execution_count": 22,
     "metadata": {},
     "output_type": "execute_result"
    }
   ],
   "source": [
    "train_pad_sequences.shape, train_label_arrays.shape"
   ]
  },
  {
   "cell_type": "markdown",
   "metadata": {},
   "source": [
    "- Class Weights\n",
    "\n",
    "To address the class imbalance problem, We can calculate the **class weights** based on the distribution of the labels. \n",
    "Class weights will help the neural network to focus more on the underrepresented classes during training, which can help reduce validation loss and improve overall accuracy.\n",
    "\n",
    "Formula:\n",
    "$$\\text{Class Weight} = \\frac{\\text{Total Samples}}{\\text{Number of Classes} \\times \\text{Class Frequency}}\\$$"
   ]
  },
  {
   "cell_type": "code",
   "execution_count": 23,
   "metadata": {},
   "outputs": [
    {
     "data": {
      "text/plain": [
       "{0: np.float64(2.1523105715245454),\n",
       " 1: np.float64(3.2311793098479935),\n",
       " 2: np.float64(0.5086471835697842),\n",
       " 3: np.float64(0.4221523633830921),\n",
       " 4: np.float64(9.10146103896104),\n",
       " 5: np.float64(2.992727030092747),\n",
       " 6: np.float64(0.6910513989892765)}"
      ]
     },
     "execution_count": 23,
     "metadata": {},
     "output_type": "execute_result"
    }
   ],
   "source": [
    "from sklearn.utils.class_weight import compute_class_weight\n",
    "\n",
    "labels = df['status'].values\n",
    "\n",
    "class_weight = compute_class_weight('balanced', classes=np.unique(labels), y=labels)\n",
    "\n",
    "class_weight = dict(enumerate(class_weight))\n",
    "\n",
    "#zip class_weight\n",
    "class_weight = dict(zip(range(7), class_weight.values()))\n",
    "\n",
    "class_weight"
   ]
  },
  {
   "cell_type": "markdown",
   "metadata": {},
   "source": [
    "## 7. Data training with (80:10:10) format"
   ]
  },
  {
   "cell_type": "code",
   "execution_count": 31,
   "metadata": {},
   "outputs": [],
   "source": [
    "from sklearn.model_selection import train_test_split\n",
    "\n",
    "X_train, X_temp, y_train, y_temp = train_test_split(train_pad_sequences, train_label_arrays, test_size=0.2, random_state=42)\n",
    "X_val, X_test, y_val, y_test = train_test_split(X_temp, y_temp, test_size=0.5, random_state=42)"
   ]
  },
  {
   "cell_type": "markdown",
   "metadata": {},
   "source": [
    "## 8. Create the neural network"
   ]
  },
  {
   "cell_type": "markdown",
   "metadata": {},
   "source": [
    "### Hyperparameter\n",
    "\n",
    "- For tuning purposes!"
   ]
  },
  {
   "cell_type": "code",
   "execution_count": 32,
   "metadata": {},
   "outputs": [],
   "source": [
    "import tensorflow as tf\n",
    "\n",
    "BATCH_SIZE = 64\n",
    "EPOCHS = 20\n",
    "LEARNING_RATE = 0.001\n",
    "OPTIMIZER = tf.keras.optimizers.Adam(learning_rate=LEARNING_RATE)\n",
    "LOSS = tf.keras.losses.CategoricalCrossentropy()\n",
    "METRICS = ['accuracy', tf.keras.metrics.Precision(), tf.keras.metrics.Recall()]\n",
    "REGULARIZER = tf.keras.regularizers.l2(0.001)\n",
    "DROPOUT = 0.3\n",
    "\n",
    "# Overfitting Callbacks\n",
    "EARLY_STOPPING = tf.keras.callbacks.EarlyStopping(  monitor='val_loss', \n",
    "                                                    patience=3,    \n",
    "                                                    restore_best_weights=True)\n",
    "LEARNING_RATE_REDUCE = tf.keras.callbacks.ReduceLROnPlateau(monitor='val_loss',\n",
    "                                                            factor=0.1,\n",
    "                                                            patience=2,\n",
    "                                                            verbose=1,\n",
    "                                                            mode='auto',\n",
    "                                                            min_delta=0.0001,\n",
    "                                                            cooldown=0,\n",
    "                                                            min_lr=0)\n",
    "MODEL_CHECKPOINT = tf.keras.callbacks.ModelCheckpoint(  'Checkpoint_Model.keras',\n",
    "                                                        monitor='val_loss',\n",
    "                                                        verbose=1,\n",
    "                                                        save_best_only=True)"
   ]
  },
  {
   "cell_type": "markdown",
   "metadata": {},
   "source": [
    "- Getting input_size for embedding layer input dimensions"
   ]
  },
  {
   "cell_type": "code",
   "execution_count": 33,
   "metadata": {},
   "outputs": [
    {
     "data": {
      "text/plain": [
       "1000"
      ]
     },
     "execution_count": 33,
     "metadata": {},
     "output_type": "execute_result"
    }
   ],
   "source": [
    "INPUT_SIZE = np.max([np.max(X_train), np.max(y_train)]) + 1\n",
    "INPUT_SIZE = int(INPUT_SIZE)\n",
    "\n",
    "INPUT_SIZE"
   ]
  },
  {
   "cell_type": "code",
   "execution_count": 34,
   "metadata": {},
   "outputs": [],
   "source": [
    "model = tf.keras.Sequential([\n",
    "    tf.keras.layers.Embedding(input_dim=INPUT_SIZE, output_dim=128),\n",
    "    tf.keras.layers.Conv1D(filters=64, kernel_size=3, activation='relu'),\n",
    "    tf.keras.layers.MaxPooling1D(pool_size=2),\n",
    "    tf.keras.layers.Bidirectional(tf.keras.layers.LSTM(64, return_sequences=True)), \n",
    "    tf.keras.layers.Bidirectional(tf.keras.layers.LSTM(64)),\n",
    "    tf.keras.layers.Dropout(DROPOUT),\n",
    "    tf.keras.layers.Dense(128, activation='relu', kernel_regularizer=REGULARIZER), \n",
    "    tf.keras.layers.Dropout(DROPOUT),\n",
    "    tf.keras.layers.Dense(64, activation='relu', kernel_regularizer=REGULARIZER), \n",
    "    tf.keras.layers.Dense(7, activation='softmax')\n",
    "])"
   ]
  },
  {
   "cell_type": "markdown",
   "metadata": {},
   "source": [
    "- Compile the model using:\n",
    "\n",
    "    - Adam for learning-rate optimizer\n",
    "    - Categorical Crossentropy for loss calculations"
   ]
  },
  {
   "cell_type": "code",
   "execution_count": 36,
   "metadata": {},
   "outputs": [
    {
     "data": {
      "text/html": [
       "<pre style=\"white-space:pre;overflow-x:auto;line-height:normal;font-family:Menlo,'DejaVu Sans Mono',consolas,'Courier New',monospace\"><span style=\"font-weight: bold\">Model: \"sequential_1\"</span>\n",
       "</pre>\n"
      ],
      "text/plain": [
       "\u001b[1mModel: \"sequential_1\"\u001b[0m\n"
      ]
     },
     "metadata": {},
     "output_type": "display_data"
    },
    {
     "data": {
      "text/html": [
       "<pre style=\"white-space:pre;overflow-x:auto;line-height:normal;font-family:Menlo,'DejaVu Sans Mono',consolas,'Courier New',monospace\">┏━━━━━━━━━━━━━━━━━━━━━━━━━━━━━━━━━┳━━━━━━━━━━━━━━━━━━━━━━━━┳━━━━━━━━━━━━━━━┓\n",
       "┃<span style=\"font-weight: bold\"> Layer (type)                    </span>┃<span style=\"font-weight: bold\"> Output Shape           </span>┃<span style=\"font-weight: bold\">       Param # </span>┃\n",
       "┡━━━━━━━━━━━━━━━━━━━━━━━━━━━━━━━━━╇━━━━━━━━━━━━━━━━━━━━━━━━╇━━━━━━━━━━━━━━━┩\n",
       "│ embedding_1 (<span style=\"color: #0087ff; text-decoration-color: #0087ff\">Embedding</span>)         │ ?                      │   <span style=\"color: #00af00; text-decoration-color: #00af00\">0</span> (unbuilt) │\n",
       "├─────────────────────────────────┼────────────────────────┼───────────────┤\n",
       "│ conv1d_1 (<span style=\"color: #0087ff; text-decoration-color: #0087ff\">Conv1D</span>)               │ ?                      │   <span style=\"color: #00af00; text-decoration-color: #00af00\">0</span> (unbuilt) │\n",
       "├─────────────────────────────────┼────────────────────────┼───────────────┤\n",
       "│ max_pooling1d_1 (<span style=\"color: #0087ff; text-decoration-color: #0087ff\">MaxPooling1D</span>)  │ ?                      │             <span style=\"color: #00af00; text-decoration-color: #00af00\">0</span> │\n",
       "├─────────────────────────────────┼────────────────────────┼───────────────┤\n",
       "│ bidirectional_2 (<span style=\"color: #0087ff; text-decoration-color: #0087ff\">Bidirectional</span>) │ ?                      │   <span style=\"color: #00af00; text-decoration-color: #00af00\">0</span> (unbuilt) │\n",
       "├─────────────────────────────────┼────────────────────────┼───────────────┤\n",
       "│ bidirectional_3 (<span style=\"color: #0087ff; text-decoration-color: #0087ff\">Bidirectional</span>) │ ?                      │   <span style=\"color: #00af00; text-decoration-color: #00af00\">0</span> (unbuilt) │\n",
       "├─────────────────────────────────┼────────────────────────┼───────────────┤\n",
       "│ dropout_2 (<span style=\"color: #0087ff; text-decoration-color: #0087ff\">Dropout</span>)             │ ?                      │             <span style=\"color: #00af00; text-decoration-color: #00af00\">0</span> │\n",
       "├─────────────────────────────────┼────────────────────────┼───────────────┤\n",
       "│ dense_3 (<span style=\"color: #0087ff; text-decoration-color: #0087ff\">Dense</span>)                 │ ?                      │   <span style=\"color: #00af00; text-decoration-color: #00af00\">0</span> (unbuilt) │\n",
       "├─────────────────────────────────┼────────────────────────┼───────────────┤\n",
       "│ dropout_3 (<span style=\"color: #0087ff; text-decoration-color: #0087ff\">Dropout</span>)             │ ?                      │             <span style=\"color: #00af00; text-decoration-color: #00af00\">0</span> │\n",
       "├─────────────────────────────────┼────────────────────────┼───────────────┤\n",
       "│ dense_4 (<span style=\"color: #0087ff; text-decoration-color: #0087ff\">Dense</span>)                 │ ?                      │   <span style=\"color: #00af00; text-decoration-color: #00af00\">0</span> (unbuilt) │\n",
       "├─────────────────────────────────┼────────────────────────┼───────────────┤\n",
       "│ dense_5 (<span style=\"color: #0087ff; text-decoration-color: #0087ff\">Dense</span>)                 │ ?                      │   <span style=\"color: #00af00; text-decoration-color: #00af00\">0</span> (unbuilt) │\n",
       "└─────────────────────────────────┴────────────────────────┴───────────────┘\n",
       "</pre>\n"
      ],
      "text/plain": [
       "┏━━━━━━━━━━━━━━━━━━━━━━━━━━━━━━━━━┳━━━━━━━━━━━━━━━━━━━━━━━━┳━━━━━━━━━━━━━━━┓\n",
       "┃\u001b[1m \u001b[0m\u001b[1mLayer (type)                   \u001b[0m\u001b[1m \u001b[0m┃\u001b[1m \u001b[0m\u001b[1mOutput Shape          \u001b[0m\u001b[1m \u001b[0m┃\u001b[1m \u001b[0m\u001b[1m      Param #\u001b[0m\u001b[1m \u001b[0m┃\n",
       "┡━━━━━━━━━━━━━━━━━━━━━━━━━━━━━━━━━╇━━━━━━━━━━━━━━━━━━━━━━━━╇━━━━━━━━━━━━━━━┩\n",
       "│ embedding_1 (\u001b[38;5;33mEmbedding\u001b[0m)         │ ?                      │   \u001b[38;5;34m0\u001b[0m (unbuilt) │\n",
       "├─────────────────────────────────┼────────────────────────┼───────────────┤\n",
       "│ conv1d_1 (\u001b[38;5;33mConv1D\u001b[0m)               │ ?                      │   \u001b[38;5;34m0\u001b[0m (unbuilt) │\n",
       "├─────────────────────────────────┼────────────────────────┼───────────────┤\n",
       "│ max_pooling1d_1 (\u001b[38;5;33mMaxPooling1D\u001b[0m)  │ ?                      │             \u001b[38;5;34m0\u001b[0m │\n",
       "├─────────────────────────────────┼────────────────────────┼───────────────┤\n",
       "│ bidirectional_2 (\u001b[38;5;33mBidirectional\u001b[0m) │ ?                      │   \u001b[38;5;34m0\u001b[0m (unbuilt) │\n",
       "├─────────────────────────────────┼────────────────────────┼───────────────┤\n",
       "│ bidirectional_3 (\u001b[38;5;33mBidirectional\u001b[0m) │ ?                      │   \u001b[38;5;34m0\u001b[0m (unbuilt) │\n",
       "├─────────────────────────────────┼────────────────────────┼───────────────┤\n",
       "│ dropout_2 (\u001b[38;5;33mDropout\u001b[0m)             │ ?                      │             \u001b[38;5;34m0\u001b[0m │\n",
       "├─────────────────────────────────┼────────────────────────┼───────────────┤\n",
       "│ dense_3 (\u001b[38;5;33mDense\u001b[0m)                 │ ?                      │   \u001b[38;5;34m0\u001b[0m (unbuilt) │\n",
       "├─────────────────────────────────┼────────────────────────┼───────────────┤\n",
       "│ dropout_3 (\u001b[38;5;33mDropout\u001b[0m)             │ ?                      │             \u001b[38;5;34m0\u001b[0m │\n",
       "├─────────────────────────────────┼────────────────────────┼───────────────┤\n",
       "│ dense_4 (\u001b[38;5;33mDense\u001b[0m)                 │ ?                      │   \u001b[38;5;34m0\u001b[0m (unbuilt) │\n",
       "├─────────────────────────────────┼────────────────────────┼───────────────┤\n",
       "│ dense_5 (\u001b[38;5;33mDense\u001b[0m)                 │ ?                      │   \u001b[38;5;34m0\u001b[0m (unbuilt) │\n",
       "└─────────────────────────────────┴────────────────────────┴───────────────┘\n"
      ]
     },
     "metadata": {},
     "output_type": "display_data"
    },
    {
     "data": {
      "text/html": [
       "<pre style=\"white-space:pre;overflow-x:auto;line-height:normal;font-family:Menlo,'DejaVu Sans Mono',consolas,'Courier New',monospace\"><span style=\"font-weight: bold\"> Total params: </span><span style=\"color: #00af00; text-decoration-color: #00af00\">0</span> (0.00 B)\n",
       "</pre>\n"
      ],
      "text/plain": [
       "\u001b[1m Total params: \u001b[0m\u001b[38;5;34m0\u001b[0m (0.00 B)\n"
      ]
     },
     "metadata": {},
     "output_type": "display_data"
    },
    {
     "data": {
      "text/html": [
       "<pre style=\"white-space:pre;overflow-x:auto;line-height:normal;font-family:Menlo,'DejaVu Sans Mono',consolas,'Courier New',monospace\"><span style=\"font-weight: bold\"> Trainable params: </span><span style=\"color: #00af00; text-decoration-color: #00af00\">0</span> (0.00 B)\n",
       "</pre>\n"
      ],
      "text/plain": [
       "\u001b[1m Trainable params: \u001b[0m\u001b[38;5;34m0\u001b[0m (0.00 B)\n"
      ]
     },
     "metadata": {},
     "output_type": "display_data"
    },
    {
     "data": {
      "text/html": [
       "<pre style=\"white-space:pre;overflow-x:auto;line-height:normal;font-family:Menlo,'DejaVu Sans Mono',consolas,'Courier New',monospace\"><span style=\"font-weight: bold\"> Non-trainable params: </span><span style=\"color: #00af00; text-decoration-color: #00af00\">0</span> (0.00 B)\n",
       "</pre>\n"
      ],
      "text/plain": [
       "\u001b[1m Non-trainable params: \u001b[0m\u001b[38;5;34m0\u001b[0m (0.00 B)\n"
      ]
     },
     "metadata": {},
     "output_type": "display_data"
    }
   ],
   "source": [
    "model.compile(  optimizer=OPTIMIZER, \n",
    "                loss=LOSS, \n",
    "                metrics=METRICS)\n",
    "\n",
    "model.summary()"
   ]
  },
  {
   "cell_type": "code",
   "execution_count": 37,
   "metadata": {},
   "outputs": [
    {
     "name": "stdout",
     "output_type": "stream",
     "text": [
      "Epoch 1/20\n",
      "\u001b[1m561/561\u001b[0m \u001b[32m━━━━━━━━━━━━━━━━━━━━\u001b[0m\u001b[37m\u001b[0m \u001b[1m0s\u001b[0m 146ms/step - accuracy: 0.4273 - loss: 1.7976 - precision_1: 0.7677 - recall_1: 0.1943\n",
      "Epoch 1: val_loss improved from inf to 1.14940, saving model to Checkpoint_Model.keras\n",
      "\u001b[1m561/561\u001b[0m \u001b[32m━━━━━━━━━━━━━━━━━━━━\u001b[0m\u001b[37m\u001b[0m \u001b[1m115s\u001b[0m 155ms/step - accuracy: 0.4274 - loss: 1.7972 - precision_1: 0.7678 - recall_1: 0.1945 - val_accuracy: 0.6254 - val_loss: 1.1494 - val_precision_1: 0.8116 - val_recall_1: 0.4245 - learning_rate: 0.0010\n",
      "Epoch 2/20\n",
      "\u001b[1m561/561\u001b[0m \u001b[32m━━━━━━━━━━━━━━━━━━━━\u001b[0m\u001b[37m\u001b[0m \u001b[1m0s\u001b[0m 145ms/step - accuracy: 0.6447 - loss: 1.2066 - precision_1: 0.7760 - recall_1: 0.4868\n",
      "Epoch 2: val_loss improved from 1.14940 to 0.99581, saving model to Checkpoint_Model.keras\n",
      "\u001b[1m561/561\u001b[0m \u001b[32m━━━━━━━━━━━━━━━━━━━━\u001b[0m\u001b[37m\u001b[0m \u001b[1m85s\u001b[0m 151ms/step - accuracy: 0.6447 - loss: 1.2065 - precision_1: 0.7760 - recall_1: 0.4868 - val_accuracy: 0.6664 - val_loss: 0.9958 - val_precision_1: 0.8082 - val_recall_1: 0.5570 - learning_rate: 0.0010\n",
      "Epoch 3/20\n",
      "\u001b[1m561/561\u001b[0m \u001b[32m━━━━━━━━━━━━━━━━━━━━\u001b[0m\u001b[37m\u001b[0m \u001b[1m0s\u001b[0m 140ms/step - accuracy: 0.6866 - loss: 1.0201 - precision_1: 0.7746 - recall_1: 0.5773\n",
      "Epoch 3: val_loss improved from 0.99581 to 0.90734, saving model to Checkpoint_Model.keras\n",
      "\u001b[1m561/561\u001b[0m \u001b[32m━━━━━━━━━━━━━━━━━━━━\u001b[0m\u001b[37m\u001b[0m \u001b[1m82s\u001b[0m 146ms/step - accuracy: 0.6865 - loss: 1.0201 - precision_1: 0.7746 - recall_1: 0.5773 - val_accuracy: 0.6914 - val_loss: 0.9073 - val_precision_1: 0.7587 - val_recall_1: 0.6091 - learning_rate: 0.0010\n",
      "Epoch 4/20\n",
      "\u001b[1m561/561\u001b[0m \u001b[32m━━━━━━━━━━━━━━━━━━━━\u001b[0m\u001b[37m\u001b[0m \u001b[1m0s\u001b[0m 140ms/step - accuracy: 0.6932 - loss: 0.8910 - precision_1: 0.7627 - recall_1: 0.6148\n",
      "Epoch 4: val_loss did not improve from 0.90734\n",
      "\u001b[1m561/561\u001b[0m \u001b[32m━━━━━━━━━━━━━━━━━━━━\u001b[0m\u001b[37m\u001b[0m \u001b[1m82s\u001b[0m 146ms/step - accuracy: 0.6932 - loss: 0.8910 - precision_1: 0.7627 - recall_1: 0.6147 - val_accuracy: 0.6803 - val_loss: 0.9505 - val_precision_1: 0.7520 - val_recall_1: 0.5958 - learning_rate: 0.0010\n",
      "Epoch 5/20\n",
      "\u001b[1m561/561\u001b[0m \u001b[32m━━━━━━━━━━━━━━━━━━━━\u001b[0m\u001b[37m\u001b[0m \u001b[1m0s\u001b[0m 141ms/step - accuracy: 0.7133 - loss: 0.7864 - precision_1: 0.7716 - recall_1: 0.6458\n",
      "Epoch 5: val_loss improved from 0.90734 to 0.86374, saving model to Checkpoint_Model.keras\n",
      "\u001b[1m561/561\u001b[0m \u001b[32m━━━━━━━━━━━━━━━━━━━━\u001b[0m\u001b[37m\u001b[0m \u001b[1m83s\u001b[0m 147ms/step - accuracy: 0.7132 - loss: 0.7864 - precision_1: 0.7716 - recall_1: 0.6458 - val_accuracy: 0.7095 - val_loss: 0.8637 - val_precision_1: 0.7671 - val_recall_1: 0.6564 - learning_rate: 0.0010\n",
      "Epoch 6/20\n",
      "\u001b[1m561/561\u001b[0m \u001b[32m━━━━━━━━━━━━━━━━━━━━\u001b[0m\u001b[37m\u001b[0m \u001b[1m0s\u001b[0m 143ms/step - accuracy: 0.7382 - loss: 0.7099 - precision_1: 0.7857 - recall_1: 0.6806\n",
      "Epoch 6: val_loss improved from 0.86374 to 0.84867, saving model to Checkpoint_Model.keras\n",
      "\u001b[1m561/561\u001b[0m \u001b[32m━━━━━━━━━━━━━━━━━━━━\u001b[0m\u001b[37m\u001b[0m \u001b[1m84s\u001b[0m 150ms/step - accuracy: 0.7382 - loss: 0.7099 - precision_1: 0.7856 - recall_1: 0.6806 - val_accuracy: 0.6963 - val_loss: 0.8487 - val_precision_1: 0.7383 - val_recall_1: 0.6566 - learning_rate: 0.0010\n",
      "Epoch 7/20\n",
      "\u001b[1m561/561\u001b[0m \u001b[32m━━━━━━━━━━━━━━━━━━━━\u001b[0m\u001b[37m\u001b[0m \u001b[1m0s\u001b[0m 145ms/step - accuracy: 0.7452 - loss: 0.6545 - precision_1: 0.7860 - recall_1: 0.6949\n",
      "Epoch 7: val_loss improved from 0.84867 to 0.83667, saving model to Checkpoint_Model.keras\n",
      "\u001b[1m561/561\u001b[0m \u001b[32m━━━━━━━━━━━━━━━━━━━━\u001b[0m\u001b[37m\u001b[0m \u001b[1m85s\u001b[0m 151ms/step - accuracy: 0.7452 - loss: 0.6545 - precision_1: 0.7860 - recall_1: 0.6949 - val_accuracy: 0.7012 - val_loss: 0.8367 - val_precision_1: 0.7384 - val_recall_1: 0.6660 - learning_rate: 0.0010\n",
      "Epoch 8/20\n",
      "\u001b[1m561/561\u001b[0m \u001b[32m━━━━━━━━━━━━━━━━━━━━\u001b[0m\u001b[37m\u001b[0m \u001b[1m0s\u001b[0m 147ms/step - accuracy: 0.7554 - loss: 0.6076 - precision_1: 0.7917 - recall_1: 0.7134\n",
      "Epoch 8: val_loss did not improve from 0.83667\n",
      "\u001b[1m561/561\u001b[0m \u001b[32m━━━━━━━━━━━━━━━━━━━━\u001b[0m\u001b[37m\u001b[0m \u001b[1m86s\u001b[0m 153ms/step - accuracy: 0.7554 - loss: 0.6076 - precision_1: 0.7917 - recall_1: 0.7134 - val_accuracy: 0.7072 - val_loss: 0.8451 - val_precision_1: 0.7429 - val_recall_1: 0.6731 - learning_rate: 0.0010\n",
      "Epoch 9/20\n",
      "\u001b[1m561/561\u001b[0m \u001b[32m━━━━━━━━━━━━━━━━━━━━\u001b[0m\u001b[37m\u001b[0m \u001b[1m0s\u001b[0m 146ms/step - accuracy: 0.7707 - loss: 0.5451 - precision_1: 0.8007 - recall_1: 0.7366\n",
      "Epoch 9: ReduceLROnPlateau reducing learning rate to 0.00010000000474974513.\n",
      "\n",
      "Epoch 9: val_loss did not improve from 0.83667\n",
      "\u001b[1m561/561\u001b[0m \u001b[32m━━━━━━━━━━━━━━━━━━━━\u001b[0m\u001b[37m\u001b[0m \u001b[1m85s\u001b[0m 152ms/step - accuracy: 0.7707 - loss: 0.5452 - precision_1: 0.8007 - recall_1: 0.7366 - val_accuracy: 0.7068 - val_loss: 0.8821 - val_precision_1: 0.7523 - val_recall_1: 0.6624 - learning_rate: 0.0010\n",
      "Epoch 10/20\n",
      "\u001b[1m561/561\u001b[0m \u001b[32m━━━━━━━━━━━━━━━━━━━━\u001b[0m\u001b[37m\u001b[0m \u001b[1m0s\u001b[0m 146ms/step - accuracy: 0.7832 - loss: 0.4901 - precision_1: 0.8162 - recall_1: 0.7466\n",
      "Epoch 10: val_loss improved from 0.83667 to 0.81605, saving model to Checkpoint_Model.keras\n",
      "\u001b[1m561/561\u001b[0m \u001b[32m━━━━━━━━━━━━━━━━━━━━\u001b[0m\u001b[37m\u001b[0m \u001b[1m85s\u001b[0m 152ms/step - accuracy: 0.7832 - loss: 0.4901 - precision_1: 0.8162 - recall_1: 0.7466 - val_accuracy: 0.7280 - val_loss: 0.8160 - val_precision_1: 0.7608 - val_recall_1: 0.7012 - learning_rate: 1.0000e-04\n",
      "Epoch 11/20\n",
      "\u001b[1m561/561\u001b[0m \u001b[32m━━━━━━━━━━━━━━━━━━━━\u001b[0m\u001b[37m\u001b[0m \u001b[1m0s\u001b[0m 146ms/step - accuracy: 0.7934 - loss: 0.4580 - precision_1: 0.8197 - recall_1: 0.7665\n",
      "Epoch 11: val_loss did not improve from 0.81605\n",
      "\u001b[1m561/561\u001b[0m \u001b[32m━━━━━━━━━━━━━━━━━━━━\u001b[0m\u001b[37m\u001b[0m \u001b[1m85s\u001b[0m 152ms/step - accuracy: 0.7934 - loss: 0.4579 - precision_1: 0.8197 - recall_1: 0.7665 - val_accuracy: 0.7311 - val_loss: 0.8201 - val_precision_1: 0.7583 - val_recall_1: 0.7059 - learning_rate: 1.0000e-04\n",
      "Epoch 12/20\n",
      "\u001b[1m561/561\u001b[0m \u001b[32m━━━━━━━━━━━━━━━━━━━━\u001b[0m\u001b[37m\u001b[0m \u001b[1m0s\u001b[0m 150ms/step - accuracy: 0.7964 - loss: 0.4325 - precision_1: 0.8226 - recall_1: 0.7715\n",
      "Epoch 12: ReduceLROnPlateau reducing learning rate to 1.0000000474974514e-05.\n",
      "\n",
      "Epoch 12: val_loss did not improve from 0.81605\n",
      "\u001b[1m561/561\u001b[0m \u001b[32m━━━━━━━━━━━━━━━━━━━━\u001b[0m\u001b[37m\u001b[0m \u001b[1m145s\u001b[0m 157ms/step - accuracy: 0.7964 - loss: 0.4325 - precision_1: 0.8226 - recall_1: 0.7715 - val_accuracy: 0.7313 - val_loss: 0.8203 - val_precision_1: 0.7630 - val_recall_1: 0.7119 - learning_rate: 1.0000e-04\n",
      "Epoch 13/20\n",
      "\u001b[1m561/561\u001b[0m \u001b[32m━━━━━━━━━━━━━━━━━━━━\u001b[0m\u001b[37m\u001b[0m \u001b[1m0s\u001b[0m 150ms/step - accuracy: 0.8043 - loss: 0.4223 - precision_1: 0.8299 - recall_1: 0.7790\n",
      "Epoch 13: val_loss did not improve from 0.81605\n",
      "\u001b[1m561/561\u001b[0m \u001b[32m━━━━━━━━━━━━━━━━━━━━\u001b[0m\u001b[37m\u001b[0m \u001b[1m88s\u001b[0m 156ms/step - accuracy: 0.8043 - loss: 0.4223 - precision_1: 0.8299 - recall_1: 0.7790 - val_accuracy: 0.7360 - val_loss: 0.8163 - val_precision_1: 0.7599 - val_recall_1: 0.7119 - learning_rate: 1.0000e-05\n"
     ]
    }
   ],
   "source": [
    "history = model.fit(X_train,\n",
    "                    y_train, \n",
    "                    epochs=EPOCHS, \n",
    "                    batch_size=BATCH_SIZE, \n",
    "                    validation_data=(X_val, y_val),\n",
    "                    class_weight=class_weight,\n",
    "                    callbacks=[EARLY_STOPPING, LEARNING_RATE_REDUCE, MODEL_CHECKPOINT])"
   ]
  },
  {
   "cell_type": "code",
   "execution_count": 39,
   "metadata": {},
   "outputs": [
    {
     "name": "stdout",
     "output_type": "stream",
     "text": [
      "\u001b[1m141/141\u001b[0m \u001b[32m━━━━━━━━━━━━━━━━━━━━\u001b[0m\u001b[37m\u001b[0m \u001b[1m6s\u001b[0m 41ms/step - accuracy: 0.7020 - loss: 0.8720 - precision_1: 0.7315 - recall_1: 0.6688\n",
      "Test Accuracy with Neural Network: 0.7055283188819885\n"
     ]
    }
   ],
   "source": [
    "results = model.evaluate(X_test, y_test)\n",
    "print(f\"Test Accuracy with Neural Network: {results[1]}\")"
   ]
  },
  {
   "cell_type": "code",
   "execution_count": 40,
   "metadata": {},
   "outputs": [
    {
     "data": {
      "image/png": "[encoded data removed]",
      "text/plain": [
       "<Figure size 1000x600 with 2 Axes>"
      ]
     },
     "metadata": {},
     "output_type": "display_data"
    }
   ],
   "source": [
    "import matplotlib.pyplot as plt\n",
    "\n",
    "plt.figure(figsize=(10, 6))\n",
    "\n",
    "plt.subplot(1, 2, 1)\n",
    "plt.plot(history.history['accuracy'], label='accuracy')\n",
    "plt.plot(history.history['val_accuracy'], label='val_accuracy')\n",
    "plt.xlabel('Epoch')\n",
    "plt.ylabel('Accuracy')\n",
    "plt.title('Model Accuracy')\n",
    "plt.legend()\n",
    "\n",
    "plt.subplot(1, 2, 2)\n",
    "plt.plot(history.history['loss'], label='loss')\n",
    "plt.plot(history.history['val_loss'], label='val_loss')\n",
    "plt.xlabel('Epoch')\n",
    "plt.ylabel('Loss')\n",
    "plt.title('Model Loss')\n",
    "plt.legend()\n",
    "\n",
    "plt.show()"
   ]
  },
  {
   "cell_type": "code",
   "execution_count": 42,
   "metadata": {},
   "outputs": [
    {
     "name": "stdout",
     "output_type": "stream",
     "text": [
      "Statement: I am feeling anxious and I can't sleep\n",
      "\u001b[1m1/1\u001b[0m \u001b[32m━━━━━━━━━━━━━━━━━━━━\u001b[0m\u001b[37m\u001b[0m \u001b[1m0s\u001b[0m 99ms/step\n",
      "Prediction: Anxiety\n",
      "\n",
      "Statement: I am feeling very happy and excited\n",
      "\u001b[1m1/1\u001b[0m \u001b[32m━━━━━━━━━━━━━━━━━━━━\u001b[0m\u001b[37m\u001b[0m \u001b[1m0s\u001b[0m 54ms/step\n",
      "Prediction: Normal\n",
      "\n",
      "Statement: I am feeling very sad and I don't want to do anything\n",
      "\u001b[1m1/1\u001b[0m \u001b[32m━━━━━━━━━━━━━━━━━━━━\u001b[0m\u001b[37m\u001b[0m \u001b[1m0s\u001b[0m 55ms/step\n",
      "Prediction: Normal\n",
      "\n",
      "Statement: I am feeling very anxious and I can't sleep\n",
      "\u001b[1m1/1\u001b[0m \u001b[32m━━━━━━━━━━━━━━━━━━━━\u001b[0m\u001b[37m\u001b[0m \u001b[1m0s\u001b[0m 72ms/step\n",
      "Prediction: Anxiety\n",
      "\n",
      "Statement: I am so depressed\n",
      "\u001b[1m1/1\u001b[0m \u001b[32m━━━━━━━━━━━━━━━━━━━━\u001b[0m\u001b[37m\u001b[0m \u001b[1m0s\u001b[0m 63ms/step\n",
      "Prediction: Depression\n",
      "\n",
      "Statement: I am so stressed\n",
      "\u001b[1m1/1\u001b[0m \u001b[32m━━━━━━━━━━━━━━━━━━━━\u001b[0m\u001b[37m\u001b[0m \u001b[1m0s\u001b[0m 92ms/step\n",
      "Prediction: Stress\n",
      "\n"
     ]
    }
   ],
   "source": [
    "def predict_statement(statement: str) -> str:\n",
    "    statement = preprocess_text(statement)\n",
    "    statement = remove_stopwords(statement)\n",
    "    statement = understand_text(statement)\n",
    "    statement = tokenizer.texts_to_sequences([statement])\n",
    "    statement = tf.keras.preprocessing.sequence.pad_sequences(statement, maxlen=max_sequence_length, padding='post', truncating='post')\n",
    "    prediction = model.predict(statement)\n",
    "    prediction = encoder.inverse_transform([np.argmax(prediction)])\n",
    "    return prediction[0]\n",
    "\n",
    "statement = [\n",
    "    \"I am feeling anxious and I can't sleep\", # Anxiety\n",
    "    \"I am feeling very happy and excited\", # Normal\n",
    "    \"I am feeling very sad and I don't want to do anything\", # Normal\n",
    "    \"I am feeling very anxious and I can't sleep\", # Anxiety\n",
    "    \"I am so depressed\", # Depression\n",
    "    \"I am so stressed\" # Stress\n",
    "]\n",
    "\n",
    "for s in statement:\n",
    "    print(f\"Statement: {s}\")\n",
    "    print(f\"Prediction: {predict_statement(s)}\")\n",
    "    print()"
   ]
  },
  {
   "cell_type": "code",
   "execution_count": 43,
   "metadata": {},
   "outputs": [
    {
     "name": "stderr",
     "output_type": "stream",
     "text": [
      "WARNING:absl:You are saving your model as an HDF5 file via `model.save()` or `keras.saving.save_model(model)`. This file format is considered legacy. We recommend using instead the native Keras format, e.g. `model.save('my_model.keras')` or `keras.saving.save_model(model, 'my_model.keras')`. \n"
     ]
    }
   ],
   "source": [
    "model.save('../model/keras/model.keras')\n",
    "model.save('../model/model.h5')"
   ]
  }
 ],
 "metadata": {
  "kernelspec": {
   "display_name": "Python 3",
   "language": "python",
   "name": "python3"
  },
  "language_info": {
   "codemirror_mode": {
    "name": "ipython",
    "version": 3
   },
   "file_extension": ".py",
   "mimetype": "text/x-python",
   "name": "python",
   "nbconvert_exporter": "python",
   "pygments_lexer": "ipython3",
   "version": "3.12.3"
  }
 },
 "nbformat": 4,
 "nbformat_minor": 2
}
